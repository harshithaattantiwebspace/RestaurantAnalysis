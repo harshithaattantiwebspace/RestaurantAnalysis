{
  "nbformat": 4,
  "nbformat_minor": 0,
  "metadata": {
    "colab": {
      "provenance": []
    },
    "kernelspec": {
      "name": "python3",
      "display_name": "Python 3"
    },
    "language_info": {
      "name": "python"
    }
  },
  "cells": [
    {
      "cell_type": "code",
      "source": [
        "import pandas as pd\n",
        "import re\n",
        "\n",
        "# Load Kaggle dataset with proper data types\n",
        "# Set low_memory=False to avoid DtypeWarning\n",
        "restaurants_df = pd.read_csv(\"restaurants_dataset.csv\", low_memory=False)\n",
        "\n",
        "# Remove unnecessary columns\n",
        "columns_to_remove = ['Images', 'Phone', 'Website', 'Time_Zone', 'Link','Geo_Coordinates','Latitude','Longitude']\n",
        "restaurants_df = restaurants_df.drop(columns=columns_to_remove, errors='ignore')\n",
        "\n",
        "# 1. Filter US-only data\n",
        "restaurants_df = restaurants_df[restaurants_df[\"Address\"].str.contains(\"United States|USA|US\", case=False, na=False)]\n",
        "\n",
        "restaurants_df = restaurants_df.copy()\n",
        "\n",
        "# 2. Drop rows with missing critical values\n",
        "restaurants_df.dropna(subset=[\"Address\", \"Rating\"], inplace=True)\n",
        "\n",
        "# 3. Convert Rating to float (handle any non-numeric values)\n",
        "restaurants_df[\"Rating\"] = pd.to_numeric(restaurants_df[\"Rating\"], errors='coerce')\n",
        "\n",
        "# 4. Extract ZIP codes\n",
        "def extract_zip(address):\n",
        "    zip_match = re.search(r'\\b\\d{5}\\b', str(address))\n",
        "    return zip_match.group(0) if zip_match else None\n",
        "\n",
        "# Create new \"ZCTA\" column\n",
        "restaurants_df[\"ZCTA\"] = restaurants_df[\"Address\"].apply(extract_zip)\n",
        "\n",
        "# 5. Clean the data\n",
        "# Remove rows with invalid/missing ZIP codes\n",
        "restaurants_df = restaurants_df[restaurants_df[\"ZCTA\"].notna()]\n",
        "\n",
        "# Remove duplicate restaurants\n",
        "restaurants_df = restaurants_df.drop_duplicates(subset=[\"Title\", \"Address\"], keep=\"first\")\n",
        "\n",
        "# Save cleaned data\n",
        "restaurants_df.to_csv(\"cleaned_restaurants.csv\", index=False)\n",
        "\n",
        "print(f\"Total restaurants after cleaning: {len(restaurants_df)}\")\n",
        "print(f\"Average rating: {restaurants_df['Rating'].mean():.2f}\")\n",
        "print(f\"Number of unique ZCTAs: {restaurants_df['ZCTA'].nunique()}\")\n",
        "print(restaurants_df.head())"
      ],
      "metadata": {
        "colab": {
          "base_uri": "https://localhost:8080/"
        },
        "id": "UZbtNvJy9Fer",
        "outputId": "c6ad5c85-9654-4ff4-a8a1-acdcf16ec783"
      },
      "execution_count": null,
      "outputs": [
        {
          "output_type": "stream",
          "name": "stdout",
          "text": [
            "Total restaurants after cleaning: 140987\n",
            "Average rating: 4.27\n",
            "Number of unique ZCTAs: 10438\n",
            "                          Title              Category  Rating  \\\n",
            "0     Dairy Queen Grill & Chill  Fast food restaurant     3.8   \n",
            "1             Jake's Restaurant   American restaurant     4.4   \n",
            "2                 Carib Kitchen  Caribbean restaurant     4.9   \n",
            "3  Cazadores Mexican Restaurant    Mexican restaurant     4.5   \n",
            "4       La Posada Mexican Grill    Mexican restaurant     4.3   \n",
            "\n",
            "                                             Address  \\\n",
            "0  Dairy Queen Grill & Chill, 3143 US-280, Alexan...   \n",
            "1  Jake's Restaurant, 16 Broad St, Alexander City...   \n",
            "2  Carib Kitchen, 68 Broad St, Alexander City, AL...   \n",
            "3  Cazadores Mexican Restaurant, 910 Cherokee Rd,...   \n",
            "4  La Posada Mexican Grill, 3714 US-280, Alexande...   \n",
            "\n",
            "                                          Categories   ZCTA  \n",
            "0         ['Fast food restaurant', 'Ice cream shop']  35010  \n",
            "1                            ['American restaurant']  35010  \n",
            "2                           ['Caribbean restaurant']  35010  \n",
            "3                             ['Mexican restaurant']  35010  \n",
            "4  ['Mexican restaurant', 'Latin American restaur...  35010  \n"
          ]
        }
      ]
    },
    {
      "cell_type": "code",
      "source": [
        "import pandas as pd\n",
        "import matplotlib.pyplot as plt\n",
        "\n",
        "# Load the cleaned dataset\n",
        "file_path = \"cleaned_restaurants.csv\"\n",
        "restaurants_df = pd.read_csv(file_path)\n",
        "\n",
        "# Plot distribution of ratings before filtering outliers\n",
        "plt.figure(figsize=(8, 5))\n",
        "plt.hist(restaurants_df[\"Rating\"], bins=20, edgecolor=\"black\", alpha=0.7)\n",
        "plt.xlabel(\"Restaurant Ratings\")\n",
        "plt.ylabel(\"Frequency\")\n",
        "plt.title(\"Distribution of Restaurant Ratings Before Filtering Outliers\")\n",
        "plt.grid(axis=\"y\", linestyle=\"--\", alpha=0.7)\n",
        "plt.show()\n",
        "\n",
        "# Remove outlier ratings\n",
        "restaurants_df = restaurants_df[(restaurants_df[\"Rating\"] >= 1.0) & (restaurants_df[\"Rating\"] <= 5.0)]\n",
        "\n",
        "# Save the cleaned dataset again\n",
        "restaurants_df.to_csv(\"filtered_restaurants.csv\", index=False)\n",
        "\n",
        "print(\"Outlier ratings removed. Cleaned dataset saved as 'filtered_restaurants.csv'.\")\n"
      ],
      "metadata": {
        "colab": {
          "base_uri": "https://localhost:8080/",
          "height": 505
        },
        "id": "BEwFsWapUFFg",
        "outputId": "479eed67-239f-4842-c87e-47927a1f1735"
      },
      "execution_count": null,
      "outputs": [
        {
          "output_type": "display_data",
          "data": {
            "text/plain": [
              "<Figure size 800x500 with 1 Axes>"
            ],
            "image/png": "[encoded data removed]"
          },
          "metadata": {}
        },
        {
          "output_type": "stream",
          "name": "stdout",
          "text": [
            "Outlier ratings removed. Cleaned dataset saved as 'filtered_restaurants.csv'.\n"
          ]
        }
      ]
    },
    {
      "cell_type": "code",
      "source": [
        "import requests\n",
        "import pandas as pd\n",
        "\n",
        "url = \"https://api.census.gov/data/2022/acs/acs5\"\n",
        "\n",
        "params={\n",
        "        \"get\": \"NAME,B19013_001E,B01003_001E,B01001_007E,B01001_011E,B01001_021E,B01001_031E,B01001_035E,B01001_045E,B03002_006E,B04004_005E,B03003_003E\",\n",
        "        \"for\": \"zip code tabulation area:*\",     # Get ALL ZCTAs\n",
        "}\n",
        "\n",
        "response = requests.get(url, params=params)\n",
        "# Convert response to DataFrame\n",
        "data = response.json()\n",
        "columns = data[0]\n",
        "census_df = pd.DataFrame(data[1:], columns=columns)\n",
        "\n",
        "# Clean and rename columns\n",
        "census_df = census_df.rename(columns={\n",
        "    \"B19013_001E\": \"Median_Income\",\n",
        "    \"B01003_001E\": \"Population\",\n",
        "    \"B01001_007E\": \"Males_20yrs_age\",\n",
        "    \"B01001_011E\": \"Males_30yrs_age\",\n",
        "    \"B01001_021E\": \"Males_60yrs_age\",\n",
        "    \"B01001_031E\": \"Females_20yrs_age\",\n",
        "    \"B01001_035E\": \"Females_30yrs_age\",\n",
        "    \"B01001_045E\": \"Females_60yrs_age\",\n",
        "    \"B03002_006E\": \"Asian\",\n",
        "    \"B04004_005E\": \"American\",\n",
        "    \"B03003_003E\": \"Hispanic_or_Latino\",\n",
        "    \"zip code tabulation area\": \"ZCTA\"\n",
        "})\n",
        "\n",
        "# Handle missing data codes\n",
        "census_df.replace(\"-666666666\", pd.NA, inplace=True)\n",
        "\n",
        "# Convert numeric columns\n",
        "census_df[\"Median_Income\"] = pd.to_numeric(census_df[\"Median_Income\"])\n",
        "census_df[\"Population\"] = pd.to_numeric(census_df[\"Population\"])\n",
        "census_df[\"ZCTA\"] = census_df[\"ZCTA\"].astype(str).str.zfill(5)\n",
        "census_df[\"Males_20yrs_age\"] = pd.to_numeric(census_df[\"Males_20yrs_age\"])\n",
        "census_df[\"Males_30yrs_age\"] = pd.to_numeric(census_df[\"Males_30yrs_age\"])\n",
        "census_df[\"Males_60yrs_age\"] = pd.to_numeric(census_df[\"Males_60yrs_age\"])\n",
        "census_df[\"Females_20yrs_age\"] = pd.to_numeric(census_df[\"Females_20yrs_age\"])\n",
        "census_df[\"Females_30yrs_age\"] = pd.to_numeric(census_df[\"Females_30yrs_age\"])\n",
        "census_df[\"Females_60yrs_age\"] = pd.to_numeric(census_df[\"Females_60yrs_age\"])\n",
        "#census_df[\"Asian\"] = pd.to_numeric(census_df[\"Asian\"])\n",
        "#census_df[\"American\"] = pd.to_numeric(census_df[\"American\"])\n",
        "#census_df[\"Hispanic_or_Latino\"] = pd.to_numeric(census_df[\"Hispanic_or_Latino\"])\n",
        "\n",
        "# Save to CSV\n",
        "census_df.to_csv(\"all_zcta_demographics.csv\", index=False)\n",
        "\n",
        "print(f\"Success! Saved {len(census_df)} ZCTAs to CSV.\")\n",
        "print(census_df.head())"
      ],
      "metadata": {
        "colab": {
          "base_uri": "https://localhost:8080/"
        },
        "id": "AvJTWd6o8GWL",
        "outputId": "37bd3fc9-b69e-4354-c143-3f97ea4f925e"
      },
      "execution_count": null,
      "outputs": [
        {
          "output_type": "stream",
          "name": "stdout",
          "text": [
            "Success! Saved 33774 ZCTAs to CSV.\n",
            "          NAME  Median_Income  Population  Males_20yrs_age  Males_30yrs_age  \\\n",
            "0  ZCTA5 00601        17526.0       16834              233              534   \n",
            "1  ZCTA5 00602        20260.0       37642              448             1275   \n",
            "2  ZCTA5 00603        17703.0       49075              712             1706   \n",
            "3  ZCTA5 00606        19603.0        5590               59               99   \n",
            "4  ZCTA5 00610        22796.0       25542              305              899   \n",
            "\n",
            "   Males_60yrs_age  Females_20yrs_age  Females_30yrs_age  Females_60yrs_age  \\\n",
            "0              352                191                475                298   \n",
            "1              738                416               1224                670   \n",
            "2              757                621               1377                854   \n",
            "3               90                 99                136                140   \n",
            "4              481                261                836                525   \n",
            "\n",
            "  Asian American Hispanic_or_Latino   ZCTA  \n",
            "0    20      115              16726  00601  \n",
            "1    18     2126              35608  00602  \n",
            "2    28      425              48141  00603  \n",
            "3     0       26               5552  00606  \n",
            "4     0      707              24609  00610  \n"
          ]
        }
      ]
    },
    {
      "cell_type": "code",
      "source": [
        "# Load cleaned datasets\n",
        "restaurants_df = pd.read_csv(\"filtered_restaurants.csv\")\n",
        "census_df = pd.read_csv(\"all_zcta_demographics.csv\")\n",
        "\n",
        "# Ensure ZCTA columns are the same type (string)\n",
        "restaurants_df[\"ZCTA\"] = restaurants_df[\"ZCTA\"].astype(str)\n",
        "census_df[\"ZCTA\"] = census_df[\"ZCTA\"].astype(str)\n",
        "\n",
        "# Merge datasets\n",
        "merged_df = pd.merge(\n",
        "    restaurants_df,\n",
        "    census_df,\n",
        "    on=\"ZCTA\",\n",
        "    how=\"left\"  # Keep all restaurants, even if Census data is missing\n",
        ")\n",
        "\n",
        "# Drop rows with missing Census data\n",
        "merged_df.dropna(subset=[\"Median_Income\", \"Population\",\"Males_20yrs_age\",\"Males_30yrs_age\",\"Males_60yrs_age\",\"Females_20yrs_age\",\"Females_30yrs_age\",\"Females_60yrs_age\"], inplace=True)\n",
        "\n",
        "# Save merged dataset\n",
        "merged_df.to_csv(\"merged_restaurants_census.csv\", index=False)\n",
        "print(merged_df.head())"
      ],
      "metadata": {
        "colab": {
          "base_uri": "https://localhost:8080/"
        },
        "id": "UVPMmu2p-3gA",
        "outputId": "ba796c7d-3218-4e74-e78e-c0d8ac111cb0"
      },
      "execution_count": null,
      "outputs": [
        {
          "output_type": "stream",
          "name": "stdout",
          "text": [
            "                          Title              Category  Rating  \\\n",
            "0     Dairy Queen Grill & Chill  Fast food restaurant     3.8   \n",
            "1             Jake's Restaurant   American restaurant     4.4   \n",
            "2                 Carib Kitchen  Caribbean restaurant     4.9   \n",
            "3  Cazadores Mexican Restaurant    Mexican restaurant     4.5   \n",
            "4       La Posada Mexican Grill    Mexican restaurant     4.3   \n",
            "\n",
            "                                             Address  \\\n",
            "0  Dairy Queen Grill & Chill, 3143 US-280, Alexan...   \n",
            "1  Jake's Restaurant, 16 Broad St, Alexander City...   \n",
            "2  Carib Kitchen, 68 Broad St, Alexander City, AL...   \n",
            "3  Cazadores Mexican Restaurant, 910 Cherokee Rd,...   \n",
            "4  La Posada Mexican Grill, 3714 US-280, Alexande...   \n",
            "\n",
            "                                          Categories   ZCTA         NAME  \\\n",
            "0         ['Fast food restaurant', 'Ice cream shop']  35010  ZCTA5 35010   \n",
            "1                            ['American restaurant']  35010  ZCTA5 35010   \n",
            "2                           ['Caribbean restaurant']  35010  ZCTA5 35010   \n",
            "3                             ['Mexican restaurant']  35010  ZCTA5 35010   \n",
            "4  ['Mexican restaurant', 'Latin American restaur...  35010  ZCTA5 35010   \n",
            "\n",
            "   Median_Income  Population  Males_20yrs_age  Males_30yrs_age  \\\n",
            "0        46730.0     20406.0            414.0            658.0   \n",
            "1        46730.0     20406.0            414.0            658.0   \n",
            "2        46730.0     20406.0            414.0            658.0   \n",
            "3        46730.0     20406.0            414.0            658.0   \n",
            "4        46730.0     20406.0            414.0            658.0   \n",
            "\n",
            "   Males_60yrs_age  Females_20yrs_age  Females_30yrs_age  Females_60yrs_age  \\\n",
            "0            409.0              246.0              636.0              434.0   \n",
            "1            409.0              246.0              636.0              434.0   \n",
            "2            409.0              246.0              636.0              434.0   \n",
            "3            409.0              246.0              636.0              434.0   \n",
            "4            409.0              246.0              636.0              434.0   \n",
            "\n",
            "   Asian  American  Hispanic_or_Latino  \n",
            "0  107.0    1864.0               899.0  \n",
            "1  107.0    1864.0               899.0  \n",
            "2  107.0    1864.0               899.0  \n",
            "3  107.0    1864.0               899.0  \n",
            "4  107.0    1864.0               899.0  \n"
          ]
        }
      ]
    }
  ]
}