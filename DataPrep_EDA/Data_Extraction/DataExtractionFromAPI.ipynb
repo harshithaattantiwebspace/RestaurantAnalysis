{
  "nbformat": 4,
  "nbformat_minor": 0,
  "metadata": {
    "colab": {
      "provenance": []
    },
    "kernelspec": {
      "name": "python3",
      "display_name": "Python 3"
    },
    "language_info": {
      "name": "python"
    }
  },
  "cells": [
    {
      "cell_type": "code",
      "execution_count": null,
      "metadata": {
        "colab": {
          "base_uri": "https://localhost:8080/"
        },
        "id": "iwxScRs7HhRP",
        "outputId": "7e89f499-882b-4157-aece-e54603d7f104"
      },
      "outputs": [
        {
          "output_type": "stream",
          "name": "stdout",
          "text": [
            "Success! Saved 33774 ZCTAs to CSV.\n",
            "          NAME B19013_001E B01003_001E B01001_002E B01001_003E B01001_004E  \\\n",
            "0  ZCTA5 00601       17526       16834        8337         309         419   \n",
            "1  ZCTA5 00602       20260       37642       18405         603         801   \n",
            "2  ZCTA5 00603       17703       49075       23813         827        1135   \n",
            "3  ZCTA5 00606       19603        5590        2723          98          98   \n",
            "4  ZCTA5 00610       22796       25542       12317         380         669   \n",
            "\n",
            "  B01001_005E B01001_026E B01001_027E B01001_028E B01001_029E B03002_003E  \\\n",
            "0         523        8497         284         302         661          71   \n",
            "1        1039       19237         591         663        1124        1646   \n",
            "2        1394       25262         832         952        1465         684   \n",
            "3         131        2867         106         142         167          38   \n",
            "4         605       13225         382         625         679         749   \n",
            "\n",
            "  B03002_004E B03002_005E B03002_006E B03002_012E zip code tabulation area  \n",
            "0          17           0          20       16726                    00601  \n",
            "1           1          47          18       35608                    00602  \n",
            "2          30           0          28       48141                    00603  \n",
            "3           0           0           0        5552                    00606  \n",
            "4         122           0           0       24609                    00610  \n"
          ]
        }
      ],
      "source": [
        "import requests\n",
        "import pandas as pd\n",
        "\n",
        "#Setting up API key\n",
        "API_KEY = \"19a160bc17ba2f5f05bb0dc797e37ec447b358d0\"\n",
        "\n",
        "#Required headers for Census API requests\n",
        "HEADERS = {\"User-Agent\": \"RestaurantAnalysis/1.0 (your-email@example.com)\"}\n",
        "\n",
        "# Fetch data from the Census API\n",
        "# Request ACS 5-Year Estimates (2022) for all ZIP Code Tabulation Areas (ZCTAs)\n",
        "response = requests.get(\n",
        "    \"https://api.census.gov/data/2022/acs/acs5\", # API endpoint\n",
        "    params={\n",
        "        \"get\": \"NAME,B19013_001E,B01003_001E,B01001_002E,B01001_003E,B01001_004E,B01001_005E,B01001_026E,B01001_027E,B01001_028E,B01001_029E,B03002_003E,B03002_004E,B03002_005E,B03002_006E,B03002_012E\",  # Variables:  Name,Median Income, Population, Male Age Groups, Female Age Groups, Ethnicity\n",
        "        \"for\": \"zip code tabulation area:*\",     # Fetch data for ALL ZCTAs\n",
        "        \"key\": API_KEY                           # Authenticate with API key\n",
        "    },\n",
        "    headers=HEADERS  # Include required headers\n",
        ")\n",
        "\n",
        "#Check if the response status code is 200 (success) or not\n",
        "if response.status_code == 200:\n",
        "  # Convert API response to JSON\n",
        "  # The response is a list of lists, where the first row contains column headers\n",
        "  data = response.json()\n",
        "\n",
        "  # Create a DataFrame\n",
        "  # Extract column headers (first row of JSON data)\n",
        "  columns = data[0]\n",
        "\n",
        "  # Create DataFrame from the remaining rows (actual data)\n",
        "  census_df = pd.DataFrame(data[1:], columns=columns)\n",
        "\n",
        "  # Save the data to a CSV file\n",
        "  # Save the DataFrame to a CSV file for further analysis\n",
        "  census_df.to_csv(\"all_zcta_demographics.csv\", index=False)\n",
        "\n",
        "  print(f\"Success! Saved {len(census_df)} ZCTAs to CSV.\")\n",
        "  print(census_df.head())\n",
        "\n",
        "else:\n",
        "    print(\"Failed to fetch data from the API.\")"
      ]
    }
  ]
}